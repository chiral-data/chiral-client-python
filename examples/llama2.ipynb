{
 "cells": [
  {
   "cell_type": "code",
   "execution_count": 1,
   "id": "82bfc8aa",
   "metadata": {},
   "outputs": [
    {
     "name": "stdout",
     "output_type": "stream",
     "text": [
      "Requirement already satisfied: chiral_client in /Users/qw/miniconda3/envs/chiral/lib/python3.11/site-packages (0.2.1)\n",
      "Note: you may need to restart the kernel to use updated packages.\n",
      "chiral client version: 0.2.1\n"
     ]
    }
   ],
   "source": [
    "import sys\n",
    "import os\n",
    "%pip install chiral_client\n",
    "try:\n",
    "    sys.path.append(os.getcwd())\n",
    "    import chiral_client\n",
    "except Exception:\n",
    "    print(f'use pypi package')\n",
    "print(f'chiral client version: {chiral_client.version}')\n",
    "# register a user at cloud.chiral.one, get the token api from the page \"Profile\"\n",
    "user_email = os.environ['CHIRAL_USER_EMAIL']\n",
    "token_api = os.environ['CHIRAL_TOKEN_API']"
   ]
  },
  {
   "cell_type": "code",
   "execution_count": 2,
   "id": "ceb97d01",
   "metadata": {},
   "outputs": [],
   "source": [
    "def create_client() -> chiral_client.Client:\n",
    "    chiral_computing_host = \"api.chiral.one\"\n",
    "    chiral_computing_port = \"20000\"\n",
    "    return chiral_client.Client(user_email, token_api, chiral_computing_host, chiral_computing_port)\n",
    "\n",
    "cc = create_client()\n",
    "job_mgr = chiral_client.Llma2JobManager()\n",
    "\n",
    "def run_llama2(temperature, words_starting):\n",
    "    job_id = job_mgr.submit_job(cc, temperature, words_starting)\n",
    "    cc.wait_until_completion(job_id)\n",
    "    (output, error) = job_mgr.get_output(cc, job_id)\n",
    "    print(output['text'])\n",
    "    assert len(output['text']) > 0\n",
    "    assert error == ''"
   ]
  },
  {
   "cell_type": "code",
   "execution_count": 3,
   "id": "ebf7afa4",
   "metadata": {},
   "outputs": [
    {
     "name": "stdout",
     "output_type": "stream",
     "text": [
      ". She is making a cake for her friend's birthday. She is very busy and does not have time to play with her. She is making a cake for her friend's birthday.\n",
      "Meanwhile, my son, who was three years old, was playing with his toy car in the living room. He was having fun and making noises. He did not see the cake on the table. He did not hear his mother calling him.\n",
      "He reached for the cake, but he was too short. He tried to reach for the cake, but he was too small. He felt sad and angry. He wanted the cake so much.\n",
      "He saw a chair near the table. He had an idea. He pushed the chair to the table and climbed on it. He reached for the cake and grabbed it. He was happy and proud. He ran to the table and put the cake on it.\n",
      "He did not see the cat that was watching him. The cat was hungry and curious. He saw the cake on the table and wanted to eat it. He jumped on the chair and tried to take the cake.\n"
     ]
    }
   ],
   "source": [
    "words_starting = \"My mother is cooking in the kitchen\"\n",
    "temperature = 0.0\n",
    "run_llama2(temperature, words_starting)"
   ]
  },
  {
   "cell_type": "code",
   "execution_count": 4,
   "id": "fcc99557",
   "metadata": {},
   "outputs": [
    {
     "name": "stdout",
     "output_type": "stream",
     "text": [
      ". He is a little nervous. He wants to help his mother, but he is too scared.\n",
      "Mama sees him and says, \"Don't worry, I will help you.\" She gives him a big hug and a kiss.\n",
      "Mama says, \"Let's make a cake together. We can make it in the oven.\"\n",
      "Imy is excited! He loves cake. So, he and Mama go to the kitchen and start to make the cake.\n",
      "Mama is very careful, and she makes sure to make sure the cake is just right. When they are done, we can eat it together.\n",
      "Meanwhile, my son is so hungry! He loves cake and he eats the whole thing.\n",
      "Mama and I look for something to eat in the kitchen. We don't want to be too nervous.<s> Once upon a time, there was a little girl named Lily. She loved to play with her toys and eat cookies. One day, her mommy gave her a big bag of cookies. Lily was so happy and ate all of them in one sitting.\n",
      "But then\n"
     ]
    }
   ],
   "source": [
    "words_starting = \"My mother is cooking in the kitchen\"\n",
    "temperature = 0.5\n",
    "run_llama2(temperature, words_starting)"
   ]
  }
 ],
 "metadata": {
  "kernelspec": {
   "display_name": "Python 3 (ipykernel)",
   "language": "python",
   "name": "python3"
  }
 },
 "nbformat": 4,
 "nbformat_minor": 5
}
