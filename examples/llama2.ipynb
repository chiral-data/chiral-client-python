{
 "cells": [
  {
   "cell_type": "code",
   "execution_count": 12,
   "id": "82bfc8aa",
   "metadata": {},
   "outputs": [
    {
     "name": "stdout",
     "output_type": "stream",
     "text": [
      "chiral client version: 0.2.1\n"
     ]
    }
   ],
   "source": [
    "import sys\n",
    "import os\n",
    "import shutil \n",
    "import pathlib\n",
    "path_root = pathlib.Path(os.getcwd()).parents[1]\n",
    "path_module = pathlib.Path(path_root) / 'chiral-client-python'\n",
    "sys.path.append(str(path_module))\n",
    "import chiral_client\n",
    "print(f'chiral client version: {chiral_client.version}')\n",
    "\n",
    "def create_client() -> chiral_client.Client:\n",
    "    user_email = \"rogerwq@gmail.com\"\n",
    "    user_token_api = \"dey8axzxlarwafooq8vq9b88019bzzi97fp8lg7hkl9c1akx3hvid8abngeyiiyy\"\n",
    "    chiral_computing_host = \"133.242.237.70\"\n",
    "    chiral_computing_port = \"20000\"\n",
    "    return chiral_client.Client(user_email, user_token_api, chiral_computing_host, chiral_computing_port)\n",
    "\n",
    "cc = create_client()\n",
    "job_mgr = chiral_client.Llma2JobManager()\n",
    "\n",
    "def run_llma2():\n",
    "    job_id = job_mgr.submit_job(cc, temperature, words_starting)\n",
    "    cc.wait_until_completion(job_id)\n",
    "    (output, error) = job_mgr.get_output(cc, job_id)\n",
    "    print(output['text'])\n",
    "    assert len(output['text']) > 0\n",
    "    assert error == ''"
   ]
  },
  {
   "cell_type": "code",
   "execution_count": 13,
   "id": "ebf7afa4",
   "metadata": {},
   "outputs": [
    {
     "name": "stdout",
     "output_type": "stream",
     "text": [
      ". She is making a cake for her friend's birthday. She is very busy and does not have time to play with her. She is making a cake for her friend's birthday.\n",
      "Meanwhile, my son, who was three years old, was playing with his toy car in the living room. He was having fun and making noises. He did not see the cake on the table. He did not hear his mother calling him.\n",
      "He reached for the cake, but he was too short. He tried to reach for the cake, but he was too small. He felt sad and angry. He wanted the cake so much.\n",
      "He saw a chair near the table. He had an idea. He pushed the chair to the table and climbed on it. He reached for the cake and grabbed it. He was happy and proud. He ran to the table and put the cake on it.\n",
      "He did not see the cat that was watching him. The cat was hungry and curious. He saw the cake on the table and wanted to eat it. He jumped on the chair and tried to take the cake.\n"
     ]
    }
   ],
   "source": [
    "# Inputs for LLma2\n",
    "words_starting = \"My mother is cooking in the kitchen\"\n",
    "temperature = 0.0\n",
    "run_llma2()"
   ]
  },
  {
   "cell_type": "code",
   "execution_count": 14,
   "id": "fcc99557",
   "metadata": {},
   "outputs": [
    {
     "name": "stdout",
     "output_type": "stream",
     "text": [
      ". He is a little nervous. He wants to help his mother, but he is too scared.\n",
      "Mama sees him and says, \"Don't worry, I will help you.\" She gives him a big hug and a kiss.\n",
      "Mama says, \"Let's make a cake together. We can make it in the oven.\"\n",
      "Imy is excited! He loves cake. So, he and Mama go to the kitchen and start to make the cake.\n",
      "Mama is very careful, and she makes sure to make sure the cake is just right. When they are done, we can eat it together.\n",
      "Meanwhile, my son is so hungry! He loves cake and he eats the whole thing.\n",
      "Mama and I look for something to eat in the kitchen. We don't want to be too nervous.<s> Once upon a time, there was a little girl named Lily. She loved to play with her toys and eat cookies. One day, her mommy gave her a big bag of cookies. Lily was so happy and ate all of them in one sitting.\n",
      "But then\n"
     ]
    }
   ],
   "source": [
    "words_starting = \"My mother is cooking in the kitchen\"\n",
    "temperature = 0.5\n",
    "run_llma2()"
   ]
  }
 ],
 "metadata": {
  "kernelspec": {
   "display_name": "Python 3 (ipykernel)",
   "language": "python",
   "name": "python3"
  },
  "language_info": {
   "codemirror_mode": {
    "name": "ipython",
    "version": 3
   },
   "file_extension": ".py",
   "mimetype": "text/x-python",
   "name": "python",
   "nbconvert_exporter": "python",
   "pygments_lexer": "ipython3",
   "version": "3.11.4"
  }
 },
 "nbformat": 4,
 "nbformat_minor": 5
}
