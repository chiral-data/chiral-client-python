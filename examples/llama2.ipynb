{
 "cells": [
  {
   "cell_type": "code",
   "execution_count": null,
   "id": "82bfc8aa",
   "metadata": {},
   "outputs": [],
   "source": [
    "import sys\n",
    "import os\n",
    "%pip install chiral_client\n",
    "try:\n",
    "    sys.path.append(os.getcwd())\n",
    "    import chiral_client\n",
    "except Exception:\n",
    "    print(f'use pypi package')\n",
    "print(f'chiral client version: {chiral_client.version}')\n",
    "# register a user at cloud.chiral.one, get the token api from the page \"Profile\"\n",
    "user_email = os.environ['CHIRAL_USER_EMAIL']\n",
    "token_api = os.environ['CHIRAL_TOKEN_API']"
   ]
  },
  {
   "cell_type": "code",
   "execution_count": null,
   "id": "ceb97d01",
   "metadata": {},
   "outputs": [],
   "source": [
    "\n",
    "def create_client() -> chiral_client.Client:\n",
    "    chiral_computing_host = \"133.242.237.70\"\n",
    "    chiral_computing_port = \"20000\"\n",
    "    return chiral_client.Client(user_email, token_api, chiral_computing_host, chiral_computing_port)\n",
    "\n",
    "cc = create_client()\n",
    "job_mgr = chiral_client.Llma2JobManager()\n",
    "\n",
    "def run_llma2(temperature, words_starting):\n",
    "    job_id = job_mgr.submit_job(cc, temperature, words_starting)\n",
    "    cc.wait_until_completion(job_id)\n",
    "    (output, error) = job_mgr.get_output(cc, job_id)\n",
    "    print(output['text'])\n",
    "    assert len(output['text']) > 0\n",
    "    assert error == ''"
   ]
  },
  {
   "cell_type": "code",
   "execution_count": null,
   "id": "ebf7afa4",
   "metadata": {},
   "outputs": [],
   "source": [
    "words_starting = \"My mother is cooking in the kitchen\"\n",
    "temperature = 0.0\n",
    "run_llma2(temperature, words_starting)"
   ]
  },
  {
   "cell_type": "code",
   "execution_count": null,
   "id": "fcc99557",
   "metadata": {},
   "outputs": [],
   "source": [
    "words_starting = \"My mother is cooking in the kitchen\"\n",
    "temperature = 0.5\n",
    "run_llma2(temperature, words_starting)"
   ]
  }
 ],
 "metadata": {
  "kernelspec": {
   "display_name": "Python 3 (ipykernel)",
   "language": "python",
   "name": "python3"
  },
  "language_info": {
   "codemirror_mode": {
    "name": "ipython",
    "version": 3
   },
   "file_extension": ".py",
   "mimetype": "text/x-python",
   "name": "python",
   "nbconvert_exporter": "python",
   "pygments_lexer": "ipython3",
   "version": "3.11.4"
  }
 },
 "nbformat": 4,
 "nbformat_minor": 5
}
