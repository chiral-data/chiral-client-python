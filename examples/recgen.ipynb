{
 "cells": [
  {
   "cell_type": "code",
   "execution_count": null,
   "metadata": {},
   "outputs": [],
   "source": [
    "import sys\n",
    "import os\n",
    "import pathlib\n",
    "path_root = pathlib.Path(os.getcwd()).parents[1]\n",
    "path_module = pathlib.Path(path_root) / 'chiral-client-python'\n",
    "sys.path.append(str(path_module))\n",
    "import chiral_client\n",
    "print(f'chiral client version: {chiral_client.version}')\n",
    "# register a user at cloud.chiral.one, get the token api from the page \"Profile\"\n",
    "user_email = os.environ['CHIRAL_USER_EMAIL']\n",
    "token_api = os.environ['CHIRAL_TOKEN_API']"
   ]
  },
  {
   "cell_type": "code",
   "execution_count": null,
   "metadata": {},
   "outputs": [],
   "source": [
    "def create_client() -> chiral_client.Client:\n",
    "    chiral_computing_host = \"133.242.237.70\"\n",
    "    chiral_computing_port = \"20000\"\n",
    "    options=[\n",
    "        ('grpc.max_receive_message_length', 10 * 1000 * 1000),\n",
    "    ]\n",
    "    return chiral_client.Client(user_email, token_api, chiral_computing_host, chiral_computing_port, options)\n",
    "\n",
    "cc = create_client()"
   ]
  },
  {
   "cell_type": "code",
   "execution_count": null,
   "metadata": {},
   "outputs": [],
   "source": [
    "job_mgr = chiral_client.RecGenJobManager()\n",
    "data_dir = os.environ['CHIRAL_DATA_DIR']\n",
    "for (mol_file, result_count) in [\n",
    "    # # 1-step transformation with fragment db of drug bank\n",
    "    # ('sample1', 1117), \n",
    "    # ('sample4', 33),\n",
    "    # # 1-step transformation with fragment db of kegg \n",
    "    # ('sample1', 1050), \n",
    "    # ('sample4', 44),\n",
    "    # 2-step transformation with fragment db of drug bank \n",
    "    ('sample2', 80424), # 80784 from recgen doc \n",
    "    ('sample5', 14508), # 15210 from recgen doc\n",
    "]:\n",
    "    with open(f'{data_dir}/recgen/inputs/{mol_file}.mol') as f:\n",
    "        input_mol = f.read()\n",
    "        f.close()\n",
    "    job_id = job_mgr.submit_job(cc, input_mol)\n",
    "    cc.wait_until_completion(job_id)\n",
    "    (output, error) = job_mgr.get_output(cc, job_id)\n",
    "    print(len(output))\n",
    "    print(error)\n",
    "    # assert len(output) == result_count\n",
    "    assert error == ''"
   ]
  }
 ],
 "metadata": {
  "kernelspec": {
   "display_name": "Python 3 (ipykernel)",
   "language": "python",
   "name": "python3"
  },
  "language_info": {
   "codemirror_mode": {
    "name": "ipython",
    "version": 3
   },
   "file_extension": ".py",
   "mimetype": "text/x-python",
   "name": "python",
   "nbconvert_exporter": "python",
   "pygments_lexer": "ipython3",
   "version": "3.11.4"
  },
  "orig_nbformat": 4
 },
 "nbformat": 4,
 "nbformat_minor": 2
}
