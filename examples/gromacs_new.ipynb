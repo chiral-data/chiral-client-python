{
 "cells": [
  {
   "cell_type": "code",
   "execution_count": null,
   "metadata": {},
   "outputs": [],
   "source": [
    "import sys\n",
    "import os\n",
    "import shutil\n",
    "import pathlib\n",
    "path_root = pathlib.Path(os.getcwd()).parents[1]\n",
    "path_module = pathlib.Path(path_root) / 'chiral-client-python'\n",
    "sys.path.append(str(path_module))\n",
    "import chiral_client\n",
    "print(f'chiral client version: {chiral_client.version}')\n",
    "# register a user at cloud.chiral.one, get the token api from the page \"Profile\"\n",
    "user_email = os.environ['CHIRAL_USER_EMAIL']\n",
    "token_api = os.environ['CHIRAL_TOKEN_API']"
   ]
  },
  {
   "cell_type": "code",
   "execution_count": null,
   "metadata": {},
   "outputs": [],
   "source": [
    "def create_client() -> chiral_client.Client:\n",
    "    chiral_computing_host = \"133.242.237.70\"\n",
    "    chiral_computing_port = \"20000\"\n",
    "    return chiral_client.Client(user_email, token_api, chiral_computing_host, chiral_computing_port)\n",
    "\n",
    "cc = create_client()"
   ]
  },
  {
   "cell_type": "code",
   "execution_count": null,
   "metadata": {},
   "outputs": [],
   "source": [
    "simulation_id = 'lysozyme'\n",
    "data_dir = f'{os.environ[\"CHIRAL_DATA_DIR\"]}/gromacs/{simulation_id}'\n",
    "local_dir = simulation_id\n",
    "if os.path.exists(local_dir):\n",
    "    shutil.rmtree(local_dir)\n",
    "os.mkdir(local_dir)\n",
    "job_mgr = chiral_client.GromacsJobManager(simulation_id, local_dir, cc)\n",
    "\n",
    "# remove files under the existing simulation directory \n",
    "job_mgr.clear_files(cc)\n",
    "\n",
    "# from pdb to topology\n",
    "files_input = [\"1AKI_clean.pdb\"]\n",
    "for filename in files_input:\n",
    "    shutil.copy(f'{data_dir}/{filename}', f'{local_dir}/{filename}')\n",
    "files_output = [\"1AKI_processed.gro\", \"topol.top\", \"posre.itp\"] \n",
    "\n",
    "job_mgr.upload_files(cc, ['1AKI_clean.pdb'])\n",
    "job_id = job_mgr.submit_job(cc,\n",
    "    'pdb2gmx', \"-f 1AKI_clean.pdb -o 1AKI_processed.gro -water spce\", \"15\",\n",
    "    files_input, files_output\n",
    ")\n",
    "print(f'Job {job_id} created')\n",
    "cc.wait_until_completion(job_id)\n",
    "(output, error) = job_mgr.get_output(cc, job_id)\n",
    "assert len(output) > 0\n",
    "assert error == ''\n",
    "job_mgr.download_files(cc, files_output)\n",
    "for filename in files_output:\n",
    "    assert os.path.exists(f'{local_dir}/{filename}')\n",
    "\n",
    "shutil.rmtree(local_dir)\n"
   ]
  }
 ],
 "metadata": {
  "kernelspec": {
   "display_name": "Python 3 (ipykernel)",
   "language": "python",
   "name": "python3"
  },
  "language_info": {
   "codemirror_mode": {
    "name": "ipython",
    "version": 3
   },
   "file_extension": ".py",
   "mimetype": "text/x-python",
   "name": "python",
   "nbconvert_exporter": "python",
   "pygments_lexer": "ipython3",
   "version": "3.11.4"
  },
  "orig_nbformat": 4
 },
 "nbformat": 4,
 "nbformat_minor": 2
}
