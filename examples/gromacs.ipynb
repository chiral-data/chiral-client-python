{
 "cells": [
  {
   "cell_type": "code",
   "execution_count": 3,
   "id": "2fb6234e",
   "metadata": {},
   "outputs": [
    {
     "ename": "ModuleNotFoundError",
     "evalue": "No module named 'numpy'",
     "output_type": "error",
     "traceback": [
      "\u001b[0;31m---------------------------------------------------------------------------\u001b[0m",
      "\u001b[0;31mModuleNotFoundError\u001b[0m                       Traceback (most recent call last)",
      "Cell \u001b[0;32mIn[3], line 5\u001b[0m\n\u001b[1;32m      3\u001b[0m \u001b[39mimport\u001b[39;00m \u001b[39mos\u001b[39;00m\n\u001b[1;32m      4\u001b[0m \u001b[39mimport\u001b[39;00m \u001b[39mtime\u001b[39;00m\n\u001b[0;32m----> 5\u001b[0m \u001b[39mimport\u001b[39;00m \u001b[39mnumpy\u001b[39;00m \u001b[39mas\u001b[39;00m \u001b[39mnp\u001b[39;00m\n\u001b[1;32m      6\u001b[0m \u001b[39mimport\u001b[39;00m \u001b[39mmatplotlib\u001b[39;00m\u001b[39m.\u001b[39;00m\u001b[39mpyplot\u001b[39;00m \u001b[39mas\u001b[39;00m \u001b[39mplt\u001b[39;00m\n\u001b[1;32m      7\u001b[0m path_root \u001b[39m=\u001b[39m pathlib\u001b[39m.\u001b[39mPath(os\u001b[39m.\u001b[39mgetcwd())\u001b[39m.\u001b[39mparents[\u001b[39m2\u001b[39m]\n",
      "\u001b[0;31mModuleNotFoundError\u001b[0m: No module named 'numpy'"
     ]
    }
   ],
   "source": [
    "import sys\n",
    "import pathlib\n",
    "import os\n",
    "import time\n",
    "import numpy as np\n",
    "import matplotlib.pyplot as plt\n",
    "path_root = pathlib.Path(os.getcwd()).parents[2]\n",
    "path_module = pathlib.Path(path_root) / 'chiral-client-python'\n",
    "sys.path.append(str(path_module))\n",
    "import chiral_client\n",
    "print(chiral_client.version)\n",
    "\n",
    "# Username and API Key\n",
    "user_email = 'new_user_2@gmail.com'\n",
    "user_token_api = \"i7oqcut9lw828uq6xv1cb1kqupllol0u\"\n",
    "\n",
    "# Cloud Configuration\n",
    "chiral_computing_host = 'localhost'\n",
    "chiral_computing_port = '20001'\n",
    "chiral_file_host = '127.0.0.1' \n",
    "chiral_file_port = 2121\n",
    "\n",
    "# create the client\n",
    "simulation_id = 'lysozyme'\n",
    "c = chiral_client.client.Client(\n",
    "    user_email, user_token_api,\n",
    "    chiral_computing_host, chiral_computing_port,\n",
    "    chiral_file_host, chiral_file_port\n",
    ")\n",
    "job_mgr = chiral_client.GromacsJobManager(simulation_id, './files', c)\n",
    "\n",
    "# remove the existing directory if it exists\n",
    "job_mgr.clear_files()\n",
    "# remote_parent_dir = 'gromacs'\n",
    "# remote_dir = f\"{remote_parent_dir}/{simulation_id}\"\n",
    "# if c.is_remote_dir(remote_parent_dir, simulation_id):\n",
    "#     c.remove_remote_dir(remote_parent_dir, simulation_id)\n",
    "# c.create_remote_dir(remote_dir)\n",
    "\n",
    "\n",
    "# # from pdb to topology\n",
    "# c.upload_files([('1AKI_clean.pdb', \".\", remote_dir)])\n",
    "# job_id = job_mgr.submit_job(c,\n",
    "#     'pdb2gmx', \"-f 1AKI_clean.pdb -o 1AKI_processed.gro -water spce\", \"15 0\",\n",
    "#     [\"1AKI_clean.pdb\"], [\"1AKI_processed.gro\", \"topol.top\", \"posre.itp\"]\n",
    "# )\n",
    "# print(f'Job {job_id} created')\n",
    "# job_mgr.wait_until_completion(c, job_id)\n",
    "# (output, error) = job_mgr.get_output(c, job_id)\n",
    "# print(output)\n",
    "# print(error)\n"
   ]
  }
 ],
 "metadata": {
  "kernelspec": {
   "display_name": "Python 3 (ipykernel)",
   "language": "python",
   "name": "python3"
  },
  "language_info": {
   "codemirror_mode": {
    "name": "ipython",
    "version": 3
   },
   "file_extension": ".py",
   "mimetype": "text/x-python",
   "name": "python",
   "nbconvert_exporter": "python",
   "pygments_lexer": "ipython3",
   "version": "3.11.4"
  }
 },
 "nbformat": 4,
 "nbformat_minor": 5
}
