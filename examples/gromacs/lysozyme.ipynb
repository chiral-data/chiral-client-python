{
 "cells": [
  {
   "cell_type": "code",
   "execution_count": 2,
   "id": "2fb6234e",
   "metadata": {},
   "outputs": [
    {
     "name": "stdout",
     "output_type": "stream",
     "text": [
      "0.2.1\n"
     ]
    },
    {
     "ename": "error_perm",
     "evalue": "550 File not found",
     "output_type": "error",
     "traceback": [
      "\u001b[0;31m---------------------------------------------------------------------------\u001b[0m",
      "\u001b[0;31merror_perm\u001b[0m                                Traceback (most recent call last)",
      "Cell \u001b[0;32mIn[2], line 30\u001b[0m\n\u001b[1;32m     24\u001b[0m simulation_id \u001b[38;5;241m=\u001b[39m \u001b[38;5;124m'\u001b[39m\u001b[38;5;124mlysozyme\u001b[39m\u001b[38;5;124m'\u001b[39m\n\u001b[1;32m     25\u001b[0m c \u001b[38;5;241m=\u001b[39m chiral_client\u001b[38;5;241m.\u001b[39mclient\u001b[38;5;241m.\u001b[39mClient(\n\u001b[1;32m     26\u001b[0m     user_email, user_token_api,\n\u001b[1;32m     27\u001b[0m     chiral_computing_host, chiral_computing_port,\n\u001b[1;32m     28\u001b[0m     chiral_file_host, chiral_file_port\n\u001b[1;32m     29\u001b[0m )\n\u001b[0;32m---> 30\u001b[0m job_mgr \u001b[38;5;241m=\u001b[39m chiral_client\u001b[38;5;241m.\u001b[39mGromacsJobManager(simulation_id, \u001b[38;5;124m'\u001b[39m\u001b[38;5;124m./files\u001b[39m\u001b[38;5;124m'\u001b[39m, c)\n\u001b[1;32m     32\u001b[0m \u001b[38;5;66;03m# remove the existing directory if it exists\u001b[39;00m\n\u001b[1;32m     33\u001b[0m remote_parent_dir \u001b[38;5;241m=\u001b[39m \u001b[38;5;124m'\u001b[39m\u001b[38;5;124mgromacs\u001b[39m\u001b[38;5;124m'\u001b[39m\n",
      "File \u001b[0;32m~/Documents/dev-chiral/chiral-client-python/chiral_client/apps/gromacs.py:37\u001b[0m, in \u001b[0;36mJobManager.__init__\u001b[0;34m(self, simulation_id, local_dir, client)\u001b[0m\n\u001b[1;32m     35\u001b[0m \u001b[38;5;28;01mif\u001b[39;00m \u001b[38;5;129;01mnot\u001b[39;00m client\u001b[38;5;241m.\u001b[39mis_remote_dir(\u001b[38;5;124m'\u001b[39m\u001b[38;5;124m.\u001b[39m\u001b[38;5;124m'\u001b[39m, \u001b[38;5;124m'\u001b[39m\u001b[38;5;124mgromacs\u001b[39m\u001b[38;5;124m'\u001b[39m):\n\u001b[1;32m     36\u001b[0m     client\u001b[38;5;241m.\u001b[39mcreate_remote_dir(\u001b[38;5;124m'\u001b[39m\u001b[38;5;124mgromacs\u001b[39m\u001b[38;5;124m'\u001b[39m)\n\u001b[0;32m---> 37\u001b[0m client\u001b[38;5;241m.\u001b[39mcreate_remote_dir(\u001b[38;5;28mself\u001b[39m\u001b[38;5;241m.\u001b[39mremote_dir)\n",
      "File \u001b[0;32m~/Documents/dev-chiral/chiral-client-python/chiral_client/client/__init__.py:82\u001b[0m, in \u001b[0;36mClient.create_remote_dir\u001b[0;34m(self, dir_name)\u001b[0m\n\u001b[1;32m     80\u001b[0m \u001b[38;5;28;01mdef\u001b[39;00m \u001b[38;5;21mcreate_remote_dir\u001b[39m(\u001b[38;5;28mself\u001b[39m, dir_name: \u001b[38;5;28mstr\u001b[39m):\n\u001b[1;32m     81\u001b[0m     \u001b[38;5;28mself\u001b[39m\u001b[38;5;241m.\u001b[39mftp\u001b[38;5;241m.\u001b[39mcwd(\u001b[38;5;28mself\u001b[39m\u001b[38;5;241m.\u001b[39mftp_root)\n\u001b[0;32m---> 82\u001b[0m     \u001b[38;5;28mself\u001b[39m\u001b[38;5;241m.\u001b[39mftp\u001b[38;5;241m.\u001b[39mmkd(dir_name)\n",
      "File \u001b[0;32m~/miniconda3/envs/chiral/lib/python3.11/ftplib.py:637\u001b[0m, in \u001b[0;36mFTP.mkd\u001b[0;34m(self, dirname)\u001b[0m\n\u001b[1;32m    635\u001b[0m \u001b[38;5;28;01mdef\u001b[39;00m \u001b[38;5;21mmkd\u001b[39m(\u001b[38;5;28mself\u001b[39m, dirname):\n\u001b[1;32m    636\u001b[0m \u001b[38;5;250m    \u001b[39m\u001b[38;5;124;03m'''Make a directory, return its full pathname.'''\u001b[39;00m\n\u001b[0;32m--> 637\u001b[0m     resp \u001b[38;5;241m=\u001b[39m \u001b[38;5;28mself\u001b[39m\u001b[38;5;241m.\u001b[39mvoidcmd(\u001b[38;5;124m'\u001b[39m\u001b[38;5;124mMKD \u001b[39m\u001b[38;5;124m'\u001b[39m \u001b[38;5;241m+\u001b[39m dirname)\n\u001b[1;32m    638\u001b[0m     \u001b[38;5;66;03m# fix around non-compliant implementations such as IIS shipped\u001b[39;00m\n\u001b[1;32m    639\u001b[0m     \u001b[38;5;66;03m# with Windows server 2003\u001b[39;00m\n\u001b[1;32m    640\u001b[0m     \u001b[38;5;28;01mif\u001b[39;00m \u001b[38;5;129;01mnot\u001b[39;00m resp\u001b[38;5;241m.\u001b[39mstartswith(\u001b[38;5;124m'\u001b[39m\u001b[38;5;124m257\u001b[39m\u001b[38;5;124m'\u001b[39m):\n",
      "File \u001b[0;32m~/miniconda3/envs/chiral/lib/python3.11/ftplib.py:286\u001b[0m, in \u001b[0;36mFTP.voidcmd\u001b[0;34m(self, cmd)\u001b[0m\n\u001b[1;32m    284\u001b[0m \u001b[38;5;250m\u001b[39m\u001b[38;5;124;03m\"\"\"Send a command and expect a response beginning with '2'.\"\"\"\u001b[39;00m\n\u001b[1;32m    285\u001b[0m \u001b[38;5;28mself\u001b[39m\u001b[38;5;241m.\u001b[39mputcmd(cmd)\n\u001b[0;32m--> 286\u001b[0m \u001b[38;5;28;01mreturn\u001b[39;00m \u001b[38;5;28mself\u001b[39m\u001b[38;5;241m.\u001b[39mvoidresp()\n",
      "File \u001b[0;32m~/miniconda3/envs/chiral/lib/python3.11/ftplib.py:259\u001b[0m, in \u001b[0;36mFTP.voidresp\u001b[0;34m(self)\u001b[0m\n\u001b[1;32m    257\u001b[0m \u001b[38;5;28;01mdef\u001b[39;00m \u001b[38;5;21mvoidresp\u001b[39m(\u001b[38;5;28mself\u001b[39m):\n\u001b[1;32m    258\u001b[0m \u001b[38;5;250m    \u001b[39m\u001b[38;5;124;03m\"\"\"Expect a response beginning with '2'.\"\"\"\u001b[39;00m\n\u001b[0;32m--> 259\u001b[0m     resp \u001b[38;5;241m=\u001b[39m \u001b[38;5;28mself\u001b[39m\u001b[38;5;241m.\u001b[39mgetresp()\n\u001b[1;32m    260\u001b[0m     \u001b[38;5;28;01mif\u001b[39;00m resp[:\u001b[38;5;241m1\u001b[39m] \u001b[38;5;241m!=\u001b[39m \u001b[38;5;124m'\u001b[39m\u001b[38;5;124m2\u001b[39m\u001b[38;5;124m'\u001b[39m:\n\u001b[1;32m    261\u001b[0m         \u001b[38;5;28;01mraise\u001b[39;00m error_reply(resp)\n",
      "File \u001b[0;32m~/miniconda3/envs/chiral/lib/python3.11/ftplib.py:254\u001b[0m, in \u001b[0;36mFTP.getresp\u001b[0;34m(self)\u001b[0m\n\u001b[1;32m    252\u001b[0m     \u001b[38;5;28;01mraise\u001b[39;00m error_temp(resp)\n\u001b[1;32m    253\u001b[0m \u001b[38;5;28;01mif\u001b[39;00m c \u001b[38;5;241m==\u001b[39m \u001b[38;5;124m'\u001b[39m\u001b[38;5;124m5\u001b[39m\u001b[38;5;124m'\u001b[39m:\n\u001b[0;32m--> 254\u001b[0m     \u001b[38;5;28;01mraise\u001b[39;00m error_perm(resp)\n\u001b[1;32m    255\u001b[0m \u001b[38;5;28;01mraise\u001b[39;00m error_proto(resp)\n",
      "\u001b[0;31merror_perm\u001b[0m: 550 File not found"
     ]
    }
   ],
   "source": [
    "import sys\n",
    "import pathlib\n",
    "import os\n",
    "import time\n",
    "import numpy as np\n",
    "import matplotlib.pyplot as plt\n",
    "path_root = pathlib.Path(os.getcwd()).parents[2]\n",
    "path_module = pathlib.Path(path_root) / 'chiral-client-python'\n",
    "sys.path.append(str(path_module))\n",
    "import chiral_client\n",
    "print(chiral_client.version)\n",
    "\n",
    "# Username and API Key\n",
    "user_email = 'new_user_2@gmail.com'\n",
    "user_token_api = \"i7oqcut9lw828uq6xv1cb1kqupllol0u\"\n",
    "\n",
    "# Cloud Configuration\n",
    "chiral_computing_host = 'localhost'\n",
    "chiral_computing_port = '20001'\n",
    "chiral_file_host = '127.0.0.1' \n",
    "chiral_file_port = 2121\n",
    "\n",
    "# create the client\n",
    "simulation_id = 'lysozyme'\n",
    "c = chiral_client.client.Client(\n",
    "    user_email, user_token_api,\n",
    "    chiral_computing_host, chiral_computing_port,\n",
    "    chiral_file_host, chiral_file_port\n",
    ")\n",
    "job_mgr = chiral_client.GromacsJobManager(simulation_id, './files', c)\n",
    "\n",
    "# remove the existing directory if it exists\n",
    "job_mgr.clear_files()\n",
    "# remote_parent_dir = 'gromacs'\n",
    "# remote_dir = f\"{remote_parent_dir}/{simulation_id}\"\n",
    "# if c.is_remote_dir(remote_parent_dir, simulation_id):\n",
    "#     c.remove_remote_dir(remote_parent_dir, simulation_id)\n",
    "# c.create_remote_dir(remote_dir)\n",
    "\n",
    "\n",
    "# # from pdb to topology\n",
    "# c.upload_files([('1AKI_clean.pdb', \".\", remote_dir)])\n",
    "# job_id = job_mgr.submit_job(c,\n",
    "#     'pdb2gmx', \"-f 1AKI_clean.pdb -o 1AKI_processed.gro -water spce\", \"15 0\",\n",
    "#     [\"1AKI_clean.pdb\"], [\"1AKI_processed.gro\", \"topol.top\", \"posre.itp\"]\n",
    "# )\n",
    "# print(f'Job {job_id} created')\n",
    "# job_mgr.wait_until_completion(c, job_id)\n",
    "# (output, error) = job_mgr.get_output(c, job_id)\n",
    "# print(output)\n",
    "# print(error)\n"
   ]
  }
 ],
 "metadata": {
  "kernelspec": {
   "display_name": "Python 3 (ipykernel)",
   "language": "python",
   "name": "python3"
  },
  "language_info": {
   "codemirror_mode": {
    "name": "ipython",
    "version": 3
   },
   "file_extension": ".py",
   "mimetype": "text/x-python",
   "name": "python",
   "nbconvert_exporter": "python",
   "pygments_lexer": "ipython3",
   "version": "3.11.3"
  }
 },
 "nbformat": 4,
 "nbformat_minor": 5
}
